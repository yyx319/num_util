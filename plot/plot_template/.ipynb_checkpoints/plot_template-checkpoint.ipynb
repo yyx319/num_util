{
 "cells": [
  {
   "cell_type": "code",
   "execution_count": 1,
   "metadata": {},
   "outputs": [
    {
     "ename": "ModuleNotFoundError",
     "evalue": "No module named 'MiscFuncs'",
     "output_type": "error",
     "traceback": [
      "\u001b[0;31m---------------------------------------------------------------------------\u001b[0m",
      "\u001b[0;31mModuleNotFoundError\u001b[0m                       Traceback (most recent call last)",
      "\u001b[0;32m<ipython-input-1-f0d49a7adf28>\u001b[0m in \u001b[0;36m<module>\u001b[0;34m()\u001b[0m\n\u001b[1;32m     26\u001b[0m \u001b[0;31m#import plot_util as pu\u001b[0m\u001b[0;34m\u001b[0m\u001b[0;34m\u001b[0m\u001b[0;34m\u001b[0m\u001b[0m\n\u001b[1;32m     27\u001b[0m \u001b[0;34m\u001b[0m\u001b[0m\n\u001b[0;32m---> 28\u001b[0;31m \u001b[0;32mfrom\u001b[0m \u001b[0mmap_class\u001b[0m \u001b[0;32mimport\u001b[0m \u001b[0;34m*\u001b[0m\u001b[0;34m\u001b[0m\u001b[0;34m\u001b[0m\u001b[0m\n\u001b[0m\u001b[1;32m     29\u001b[0m \u001b[0mplt\u001b[0m\u001b[0;34m.\u001b[0m\u001b[0mstyle\u001b[0m\u001b[0;34m.\u001b[0m\u001b[0muse\u001b[0m\u001b[0;34m(\u001b[0m\u001b[0;34m'/home/yy503/Desktop/num_util/mpl_style_sheet/pub.mplstyle'\u001b[0m\u001b[0;34m)\u001b[0m\u001b[0;34m\u001b[0m\u001b[0;34m\u001b[0m\u001b[0m\n\u001b[1;32m     30\u001b[0m \u001b[0;34m\u001b[0m\u001b[0m\n",
      "\u001b[0;32m~/Desktop/simulation_code/other/map_class.py\u001b[0m in \u001b[0;36m<module>\u001b[0;34m()\u001b[0m\n\u001b[1;32m      1\u001b[0m \u001b[0;32mif\u001b[0m \u001b[0m__name__\u001b[0m \u001b[0;34m!=\u001b[0m \u001b[0;34m\"__main__\"\u001b[0m\u001b[0;34m:\u001b[0m\u001b[0;34m\u001b[0m\u001b[0;34m\u001b[0m\u001b[0m\n\u001b[0;32m----> 2\u001b[0;31m     \u001b[0;32mfrom\u001b[0m \u001b[0mMiscFuncs\u001b[0m \u001b[0;32mimport\u001b[0m \u001b[0;34m*\u001b[0m\u001b[0;34m\u001b[0m\u001b[0;34m\u001b[0m\u001b[0m\n\u001b[0m\u001b[1;32m      3\u001b[0m     \u001b[0;32mfrom\u001b[0m \u001b[0mDefineOptions\u001b[0m \u001b[0;32mimport\u001b[0m \u001b[0;34m*\u001b[0m\u001b[0;34m\u001b[0m\u001b[0;34m\u001b[0m\u001b[0m\n\u001b[1;32m      4\u001b[0m \u001b[0;32mimport\u001b[0m \u001b[0mnumpy\u001b[0m \u001b[0;32mas\u001b[0m \u001b[0mnp\u001b[0m\u001b[0;34m\u001b[0m\u001b[0;34m\u001b[0m\u001b[0m\n\u001b[1;32m      5\u001b[0m \u001b[0;32mfrom\u001b[0m \u001b[0mmatplotlib\u001b[0m\u001b[0;34m.\u001b[0m\u001b[0mcolors\u001b[0m \u001b[0;32mimport\u001b[0m \u001b[0mLogNorm\u001b[0m\u001b[0;34m\u001b[0m\u001b[0;34m\u001b[0m\u001b[0m\n",
      "\u001b[0;31mModuleNotFoundError\u001b[0m: No module named 'MiscFuncs'"
     ]
    }
   ],
   "source": [
    "import os\n",
    "import sys\n",
    "sys.path.append('../../')\n",
    "sys.path.append('/home/yy503/Desktop/simulation_code/sunset')\n",
    "sys.path.append('/home/yy503/Desktop/simulation_code/other')\n",
    "\n",
    "\n",
    "import time\n",
    "import cProfile\n",
    "from multiprocessing import Pool\n",
    "    \n",
    "import numpy as np\n",
    "\n",
    "import matplotlib as mpl\n",
    "from matplotlib import pyplot as plt\n",
    "from matplotlib.colors import LogNorm\n",
    "from matplotlib import rcParams\n",
    "import matplotlib.ticker as ticker\n",
    "\n",
    "import astropy.units as u; import astropy.constants as c\n",
    "from scipy import stats\n",
    "from scipy.ndimage import gaussian_filter\n",
    "import healpy\n",
    "#from healpy.newvisufunc import projview, newprojplot\n",
    "\n",
    "#import plot_util as pu\n",
    "\n",
    "from map_class import *\n",
    "plt.style.use('/home/yy503/Desktop/num_util/mpl_style_sheet/pub.mplstyle')\n",
    "\n"
   ]
  },
  {
   "cell_type": "code",
   "execution_count": null,
   "metadata": {},
   "outputs": [],
   "source": [
    "z = np.ones( (100,100) )\n",
    "field = np.ones( (100,100) )*5"
   ]
  },
  {
   "cell_type": "code",
   "execution_count": 6,
   "metadata": {},
   "outputs": [
    {
     "name": "stdout",
     "output_type": "stream",
     "text": [
      "Should this be a dataclass?\n",
      "TODO: Implement streamlines and quivers data\n",
      "Map min= [1.] , max= [1.]\n",
      "Should this be a dataclass?\n",
      "TODO: Implement streamlines and quivers data\n",
      "Map min= [5.] , max= [5.]\n",
      "Should this be a dataclass?\n",
      "TODO: Implement streamlines and quivers data\n",
      "Should this be a dataclass?\n",
      "TODO: Implement streamlines and quivers data\n"
     ]
    },
    {
     "data": {
      "text/plain": [
       "' \\nrgbmap.setup_RGB_map_from_maps(map_variable, [map1, map2, map3], reqplot, icounter,                                RGBmatrix=[[1,0,0],[1,1,0.3],[0.3,0.2,0.5]])\\n\\nmap1.usemin=1e-21\\nmap1.usemax=1e-10\\n\\nmap1.display_norm=LogNorm()\\n'"
      ]
     },
     "execution_count": 6,
     "metadata": {},
     "output_type": "execute_result"
    },
    {
     "data": {
      "image/png": "[encoded data removed]",
      "text/plain": [
       "<Figure size 432x288 with 1 Axes>"
      ]
     },
     "metadata": {
      "needs_background": "light"
     },
     "output_type": "display_data"
    }
   ],
   "source": [
    "\n",
    "\n",
    "map1 = mapseed()\n",
    "map1.set_map(z)\n",
    "map1.announce_extrema(\"\")\n",
    "#map1.display_norm = LogNorm()\n",
    "\n",
    "map2 = mapseed()\n",
    "map2.set_map(field)\n",
    "map2.announce_extrema(\"\")\n",
    "#map2.display_norm = LogNorm()\n",
    "\n",
    "map3 = mapseed()\n",
    "map3.set_map(z)\n",
    "#map3.display_norm = LogNorm()\n",
    "\n",
    "map_variable = None\n",
    "reqplot = None\n",
    "varmanager = None\n",
    "icounter = None\n",
    "rgbmap = mapseed()\n",
    "#rgbmap.setup_RGB_map_from_maps(map_variable, [map1, map2, map3], reqplot, icounter)\n",
    "rgbmap.setup_RGB_map_from_maps([map1, map2, map3])\n",
    "plt.imshow(rgbmap.pf)\n",
    "\n",
    "''' \n",
    "rgbmap.setup_RGB_map_from_maps(map_variable, [map1, map2, map3], reqplot, icounter, \\\n",
    "                               RGBmatrix=[[1,0,0],[1,1,0.3],[0.3,0.2,0.5]])\n",
    "\n",
    "map1.usemin=1e-21\n",
    "map1.usemax=1e-10\n",
    "\n",
    "map1.display_norm=LogNorm()\n",
    "''' "
   ]
  }
 ],
 "metadata": {
  "anaconda-cloud": {},
  "kernelspec": {
   "display_name": "Python 3 (ipykernel)",
   "language": "python",
   "name": "python3"
  }
 },
 "nbformat": 4,
 "nbformat_minor": 2
}
