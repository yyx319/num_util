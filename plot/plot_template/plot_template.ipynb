{
 "cells": [
  {
   "cell_type": "code",
   "execution_count": 2,
   "metadata": {},
   "outputs": [],
   "source": [
    "import os\n",
    "import sys\n",
    "sys.path.append('../../')\n",
    "sys.path.append('/home/yy503/Desktop/simulation_code/sunset')\n",
    "sys.path.append('/home/yy503/Desktop/simulation_code/ramses_tools/\\\n",
    "simulation_projector-main-4d3a9bdbd0c4ae01f5dd38333b381084257fcb96/MyUtils')\n",
    "\n",
    "\n",
    "import time\n",
    "import cProfile\n",
    "from multiprocessing import Pool\n",
    "    \n",
    "import numpy as np\n",
    "\n",
    "import matplotlib as mpl\n",
    "from matplotlib import pyplot as plt\n",
    "from matplotlib.colors import LogNorm\n",
    "from matplotlib import rcParams\n",
    "import matplotlib.ticker as ticker\n",
    "\n",
    "import astropy.units as u; import astropy.constants as c\n",
    "from scipy import stats\n",
    "from scipy.ndimage import gaussian_filter\n",
    "import healpy\n",
    "#from healpy.newvisufunc import projview, newprojplot\n",
    "\n",
    "#import plot_util as pu\n",
    "\n",
    "import misc.decorator_util as dcr_util\n",
    "import misc\n",
    "\n",
    "from map_class import *\n",
    "plt.style.use('/home/yy503/Desktop/num_util/mpl_style_sheet/pub.mplstyle')\n",
    "\n"
   ]
  },
  {
   "cell_type": "code",
   "execution_count": 4,
   "metadata": {},
   "outputs": [],
   "source": [
    "import os\n",
    "import sys\n",
    "sys.path.append('../../')\n",
    "\n",
    "import misc.decorate as decorate\n",
    "with decorate.HiddenPrints():\n",
    "    print('hahaha')"
   ]
  },
  {
   "cell_type": "code",
   "execution_count": 3,
   "metadata": {},
   "outputs": [],
   "source": [
    "z = np.ones( (100,100) )\n",
    "field = np.ones( (100,100) )*5"
   ]
  },
  {
   "cell_type": "code",
   "execution_count": 6,
   "metadata": {},
   "outputs": [
    {
     "name": "stdout",
     "output_type": "stream",
     "text": [
      "Map min=[1.], max=[1.] , tot=[10000.], ave=[1.]\n",
      "Map min=[5.], max=[5.] , tot=[50000.], ave=[5.]\n"
     ]
    }
   ],
   "source": [
    "\n",
    "\n",
    "map1 = mapseed()\n",
    "map1.set_map(z)\n",
    "map1.announce_extrema(\"\")\n",
    "map1.display_norm = LogNorm()\n",
    "\n",
    "map2 = mapseed()\n",
    "map2.set_map(field)\n",
    "map2.announce_extrema(\"\")\n",
    "map2.display_norm = LogNorm()\n",
    "\n",
    "map3 = mapseed()\n",
    "map3.set_map(z)\n",
    "map3.display_norm = LogNorm()\n",
    "\n",
    "map_variable = None\n",
    "reqplot = None\n",
    "varmanager = None\n",
    "icounter = None\n",
    "rgbmap = mapseed()\n",
    "rgbmap.setup_RGB_map_from_maps(map_variable, [map1, map2, map3], reqplot, icounter)\n",
    "\n",
    "\n",
    "plt.imshow(rgbmap.pf)\n",
    "\n",
    "\n",
    "rgbmap.setup_RGB_map_from_maps(map_variable, [map1, map2, map3], reqplot, icounter, \\\n",
    "                               RGBmatrix=[[1,0,0],[1,1,0.3],[0.3,0.2,0.5]])\n",
    "\n",
    "map1.usemin=1e-21\n",
    "map1.usemax=1e-10\n",
    "\n",
    "map1.display_norm=LogNorm()\n"
   ]
  },
  {
   "cell_type": "code",
   "execution_count": 9,
   "metadata": {},
   "outputs": [
    {
     "name": "stderr",
     "output_type": "stream",
     "text": [
      "/data/yy503/envs/lya_prj_env/lib/python3.10/site-packages/matplotlib/cm.py:494: RuntimeWarning: invalid value encountered in cast\n",
      "  xx = (xx * 255).astype(np.uint8)\n",
      "/data/yy503/envs/lya_prj_env/lib/python3.10/site-packages/matplotlib/cm.py:494: RuntimeWarning: invalid value encountered in cast\n",
      "  xx = (xx * 255).astype(np.uint8)\n"
     ]
    }
   ],
   "source": [
    "plt.imshow(rgbmap.pf)\n",
    "plt.savefig('test.pdf')"
   ]
  },
  {
   "cell_type": "code",
   "execution_count": 24,
   "metadata": {},
   "outputs": [],
   "source": []
  },
  {
   "cell_type": "code",
   "execution_count": null,
   "metadata": {},
   "outputs": [],
   "source": []
  }
 ],
 "metadata": {
  "anaconda-cloud": {},
  "kernelspec": {
   "display_name": "Python 3 (ipykernel)",
   "language": "python",
   "name": "python3"
  },
  "language_info": {
   "codemirror_mode": {
    "name": "ipython",
    "version": 3
   },
   "file_extension": ".py",
   "mimetype": "text/x-python",
   "name": "python",
   "nbconvert_exporter": "python",
   "pygments_lexer": "ipython3",
   "version": "3.11.6"
  }
 },
 "nbformat": 4,
 "nbformat_minor": 2
}
